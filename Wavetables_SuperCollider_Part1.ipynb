{
 "cells": [
  {
   "cell_type": "markdown",
   "id": "civilian-democrat",
   "metadata": {},
   "source": [
    "# Using Quantum circuits to generate and manipulate wavetables on SuperCollider\n",
    "## Part 1 : The Dithering and the \"Geiger Counter\" Effects"
   ]
  },
  {
   "cell_type": "markdown",
   "id": "czech-measurement",
   "metadata": {},
   "source": [
    "This example is a simple application of a quantum audio representation. Wavetable synthesis is a good option for the near-term quantum technology, since it requires a small audio sample, containing just one period of a desired oscillattor.\n",
    "\n",
    "The main idea is to:\n",
    "+ Create a wavetable in python\n",
    "+ Create a quantum circuit that prepares a quantum audio state from the table using a quantum audio encoding scheme - and measure it back.\n",
    "+ Use a [SuperCollider](https://supercollider.github.io/) (SC) server as a wavetable synthesis engine\n",
    "+ Load the wavetable into SuperCollider and start listening to the synthesizer\n",
    "+ Simulate the quantum circuit several times and update the wavetable with the results in real time\n",
    "\n",
    "\n",
    "For creating the quantum audio state we will use the IBM's *Qiskit* language/framework and the *quantumaudio.py* module for building the quantum audio circuits. For more information on the *quantumaudio.py* module, refer to the *Quantum Audio Module Demo*."
   ]
  },
  {
   "cell_type": "markdown",
   "id": "hidden-bracelet",
   "metadata": {},
   "source": [
    "#### This Notebook is suposed to be run along with a SuperCollider server (scsynth or supernova), contatining a pre-defined or a pre-stored wavetable SynthDef called \"\\qTable\", like the one declared in the file *Wavetables.scd*. \n",
    "#### If you have a SuperCollider client (like SCIDE, SCApp, etc), you can open the Wavetables.scd script.  Boot the server by positioning the cursor at the \"s.boot;\" line and then pressing  \"  Ctrl(Cmd)+Enter \". Then store (and load) the \\qtable SynthDef, by positioning the cursor at any line inside the definition and pressing\"  Ctrl(Cmd)+Enter \".\n",
    "\n",
    "#### For a more detailed step-by-step guide about the SuperCollider side, as well as a CLI only setup, refer to the README.md file that can be read on the [Github Page](https://github.com/iccmr-quantum)"
   ]
  },
  {
   "cell_type": "markdown",
   "id": "advance-england",
   "metadata": {},
   "source": [
    "Python dependencies: \n",
    "\n",
    "First, make sure you have all of the following dependencies installed:\n",
    "- numpy\n",
    "- matplotlib\n",
    "- IPython.display\n",
    "- bitstring\n",
    "- qiskit\n",
    "- liblo\n",
    "- [python-supercollider client ](https://pypi.org/project/supercollider/)\n",
    "\n",
    "Import everything:"
   ]
  },
  {
   "cell_type": "code",
   "execution_count": null,
   "id": "ordinary-earthquake",
   "metadata": {},
   "outputs": [],
   "source": [
    "import numpy as np\n",
    "from numpy import pi\n",
    "import time\n",
    "import matplotlib.pyplot as plt\n",
    "from qiskit import QuantumCircuit, QuantumRegister, ClassicalRegister, Aer, execute"
   ]
  },
  {
   "cell_type": "markdown",
   "id": "conceptual-discretion",
   "metadata": {},
   "source": [
    "Now we will create a wavetable with one period of a sine function. The table will have 64 samples, which will produce a 6-qubit QPAM audio state:"
   ]
  },
  {
   "cell_type": "code",
   "execution_count": null,
   "id": "silent-somewhere",
   "metadata": {
    "scrolled": false
   },
   "outputs": [],
   "source": [
    "# Audio Sample / Table\n",
    "qubit_size = 6\n",
    "table_size = 2**qubit_size\n",
    "t = np.linspace(0, 1-1/table_size, table_size)\n",
    "sinewave = np.sin(2*np.pi*t)\n",
    "plt.figure(figsize=(20,5))\n",
    "plt.plot(t, sinewave, '.-', ms=5)\n",
    "plt.show()"
   ]
  },
  {
   "cell_type": "markdown",
   "id": "phantom-monroe",
   "metadata": {},
   "source": [
    "### Stablishing a connection with SuperCollider"
   ]
  },
  {
   "cell_type": "markdown",
   "id": "dimensional-constant",
   "metadata": {},
   "source": [
    "SuperCollider is a musical platform with a server-client structure. The server side is a powerful synthesis engine, *scsynth*, similar to what can be found in game development environments like *Unreal Engine*. The client side is an interpreted programming language with a javascript-like sintax, *sclang*. The language is used to send real-time messages to the synthesis engine using the OSC (Open Sound Control) communication protocol. Client messages could be instructions to create/instantiate synth nodes according to some definition, allocate buffers, change synth parameters, run a complex synthesis routine, etc.\n",
    "\n",
    "Due to this structure, many projects have been able to wrap *sclang* messages in other programming languages, like Python. One very successful python-based Supercollider client app & IDE is called [FoxDot](https://foxdot.org/). But since we wish to communicate with SC from a Jupyter Notebook, we will use a more minimalistic approach, with the [*python-supercollider module*](https://pypi.org/project/supercollider/). It has a minimal set of objects from *sclang* (Sever, Buffer, Synth, Group, Bus), that can act as a SC client, building OSC messages and sending them directly to *scsynth*."
   ]
  },
  {
   "cell_type": "code",
   "execution_count": null,
   "id": "gentle-assets",
   "metadata": {},
   "outputs": [],
   "source": [
    "from supercollider import Server, Buffer, Synth"
   ]
  },
  {
   "cell_type": "markdown",
   "id": "tight-ridge",
   "metadata": {},
   "source": [
    "Let's connect to a running *scsynth*:\n",
    "##### (Note: *you need to boot your SuperCollider server before this step*)"
   ]
  },
  {
   "cell_type": "code",
   "execution_count": null,
   "id": "popular-pendant",
   "metadata": {},
   "outputs": [],
   "source": [
    "server = Server()"
   ]
  },
  {
   "cell_type": "markdown",
   "id": "handmade-terror",
   "metadata": {},
   "source": [
    "SuperCollider has a special way of dealing with wavetables. The wavetable buffers are written in a specific [*supercollider wavetable format*](https://depts.washington.edu/dxscdoc/Help/Classes/Wavetable.html#inheritedinstmets), which are optimized in a way that requires less runtime operations. Any UGen that deals with wavetables (like the 'Osc' UGen in the *Wavetables.scd* file) will expect to read a buffer in this format. \n",
    "This buffer is twice the size of the original table and its content stores a pre-processed version of the wavetable. The following function handles this buffer pre-processing, according to specification: "
   ]
  },
  {
   "cell_type": "code",
   "execution_count": null,
   "id": "associate-recipe",
   "metadata": {},
   "outputs": [],
   "source": [
    "def toWavetable(signal):\n",
    "    wavetable = np.zeros(2*len(signal))\n",
    "    wavetable[0::2] = 2*signal - np.roll(signal, -1)\n",
    "    wavetable[1::2] = np.roll(signal, -1) - signal\n",
    "    return wavetable"
   ]
  },
  {
   "cell_type": "markdown",
   "id": "particular-filter",
   "metadata": {},
   "source": [
    "The next function will be used to update an allocated buffer in SuperCollider, using the SC 'set' message:"
   ]
  },
  {
   "cell_type": "code",
   "execution_count": null,
   "id": "green-mechanism",
   "metadata": {},
   "outputs": [],
   "source": [
    "def updateBuffer (buffer, signal):\n",
    "    wavetableformat = toWavetable(signal)\n",
    "    buffer.set(wavetableformat)"
   ]
  },
  {
   "cell_type": "markdown",
   "id": "solved-diamond",
   "metadata": {},
   "source": [
    "Let's try to listen to 1 second of our sinewave on SC. \n",
    "First we need to allocate a buffer, and update it with our wavetable:"
   ]
  },
  {
   "cell_type": "code",
   "execution_count": null,
   "id": "developmental-photography",
   "metadata": {},
   "outputs": [],
   "source": [
    "b = Buffer.alloc(server, 2*len(sinewave))"
   ]
  },
  {
   "cell_type": "code",
   "execution_count": null,
   "id": "creative-burns",
   "metadata": {},
   "outputs": [],
   "source": [
    "wavetable = sinewave\n",
    "updateBuffer(b, wavetable)"
   ]
  },
  {
   "cell_type": "markdown",
   "id": "fantastic-writing",
   "metadata": {},
   "source": [
    "Let's synth! \n",
    "\n",
    "The following code will instantiate a Synth node in SC and play it. Then it waits for 1 second, and sends a 'free' message to the server, releasing the instance. Notice how you can set SynthDef keyword arguments using a dictionary in the third positional argument of the Synth function: \n",
    "\n",
    "**Be Careful with your sound speaker/headphone volume! The default gain is set to -25dB in the line below, which is audible in many systems.**"
   ]
  },
  {
   "cell_type": "code",
   "execution_count": null,
   "id": "arbitrary-vermont",
   "metadata": {},
   "outputs": [],
   "source": [
    "synth = Synth(server, \"qTable\", {\"buf\" : b, \"gain\" : -25, \"freq\" : 350})\n",
    "time.sleep(1)\n",
    "synth.free()"
   ]
  },
  {
   "cell_type": "markdown",
   "id": "posted-cargo",
   "metadata": {},
   "source": [
    "So far, so good! You should have listened to a sinusoidal oscillator created in python and numpy sine function! Now, let's use quantum computing to manipulate this table."
   ]
  },
  {
   "cell_type": "markdown",
   "id": "fatal-nicholas",
   "metadata": {},
   "source": [
    "### Quantum \"Dithering\""
   ]
  },
  {
   "cell_type": "markdown",
   "id": "stunning-montana",
   "metadata": {},
   "source": [
    "First, let's explore a simple quantum circuit example. We will just prepare a QPAM quantum audio circuit from the sine table using the QuantumAudio class inside the *quantumaudio.py* module (refer to the *Quantum Audio Module Demo* to learn more), then apply measurements imediatelly after the preparation - a *quantum audio loopback*.\n",
    "\n"
   ]
  },
  {
   "cell_type": "code",
   "execution_count": null,
   "id": "meaning-maria",
   "metadata": {},
   "outputs": [],
   "source": [
    "import quantumaudio as qa"
   ]
  },
  {
   "cell_type": "code",
   "execution_count": null,
   "id": "demonstrated-wisdom",
   "metadata": {
    "scrolled": false
   },
   "outputs": [],
   "source": [
    "qsine = qa.QuantumAudio('qpam').load_input(sinewave)"
   ]
  },
  {
   "cell_type": "markdown",
   "id": "progressive-choice",
   "metadata": {},
   "source": [
    "This simple loopback circuit can already lead to some interesting artirtic sounding reults - if we use QPAM's inherently *imperfect, probabilistic retrieval* characteristics wisely.  "
   ]
  },
  {
   "cell_type": "code",
   "execution_count": null,
   "id": "hollow-satellite",
   "metadata": {
    "scrolled": false
   },
   "outputs": [],
   "source": [
    "qsine.prepare().measure()\n",
    "qsine.circuit.draw('mpl')"
   ]
  },
  {
   "cell_type": "markdown",
   "id": "northern-indication",
   "metadata": {},
   "source": [
    "Now that everything is set up, and we can run (or simulate in this case) the circuit and then use the results to update the wavetable:"
   ]
  },
  {
   "cell_type": "code",
   "execution_count": null,
   "id": "proved-league",
   "metadata": {},
   "outputs": [],
   "source": [
    "shots = 1024\n",
    "wavetable = qsine.run(shots).reconstruct_audio().output\n",
    "qsine.plot_audio()"
   ]
  },
  {
   "cell_type": "markdown",
   "id": "medieval-radiation",
   "metadata": {},
   "source": [
    "Start the synth again,"
   ]
  },
  {
   "cell_type": "code",
   "execution_count": null,
   "id": "current-marsh",
   "metadata": {},
   "outputs": [],
   "source": [
    "synth = Synth(server, \"qTable\", {\"buf\" : b, \"gain\" : -35, \"freq\" : 350})"
   ]
  },
  {
   "cell_type": "markdown",
   "id": "synthetic-bandwidth",
   "metadata": {},
   "source": [
    "and update the buffer:"
   ]
  },
  {
   "cell_type": "code",
   "execution_count": null,
   "id": "prospective-reading",
   "metadata": {},
   "outputs": [],
   "source": [
    "updateBuffer(b, wavetable)"
   ]
  },
  {
   "cell_type": "markdown",
   "id": "wired-contamination",
   "metadata": {},
   "source": [
    "Voila!! You can notice that the sound is not perfectly reconstructed, due to the small number of shots. The result is the introduction of some noise on the signal. This is referred as a *Quantum Dithering Effect*. The higher the number of shots, the lower is the noise amplitude."
   ]
  },
  {
   "cell_type": "markdown",
   "id": "fiscal-subsection",
   "metadata": {},
   "source": [
    "For stopping the synth, run:"
   ]
  },
  {
   "cell_type": "code",
   "execution_count": null,
   "id": "liable-netscape",
   "metadata": {},
   "outputs": [],
   "source": [
    "synth.free()"
   ]
  },
  {
   "cell_type": "markdown",
   "id": "fluid-rebound",
   "metadata": {},
   "source": [
    "### Wavetable Update Loops and the Geiger Counter Effect\n",
    "An immediate extension of this buffer updating idea is to simulate the circuit seversal times, changing the number of shots on each run while listening to the variations in real time. \n",
    "\n",
    "Let's start our synth again, with our original signal:"
   ]
  },
  {
   "cell_type": "code",
   "execution_count": null,
   "id": "molecular-twins",
   "metadata": {},
   "outputs": [],
   "source": [
    "updateBuffer(b, sinewave)\n",
    "synth = Synth(server, \"qTable\", {\"buf\" : b, \"gain\" : -35, \"freq\" : 250})"
   ]
  },
  {
   "cell_type": "markdown",
   "id": "neither-grace",
   "metadata": {},
   "source": [
    "Then we will make a loop and run the circuit several times. The effect will be a 'colour' change in the sound timbre. (fell free to experiment with different parameters):"
   ]
  },
  {
   "cell_type": "code",
   "execution_count": null,
   "id": "liable-spring",
   "metadata": {},
   "outputs": [],
   "source": [
    "SHOTS =[1, 2, 3, 4, 5, 6, 7, 8, 9, 10, 20, 30, 40, 50, 60, 70, 80, 90, 100, 200, 300, 400, 500, 1000, 2000, 3000, 4000, 5000, 10000, 20000, 100000]"
   ]
  },
  {
   "cell_type": "code",
   "execution_count": null,
   "id": "played-johns",
   "metadata": {
    "scrolled": true
   },
   "outputs": [],
   "source": [
    "time_interval = 0.1\n",
    "for i in SHOTS:\n",
    "    wavetable = qsine.run(i).reconstruct_audio().output\n",
    "    updateBuffer(b, wavetable)\n",
    "    time.sleep(time_interval)"
   ]
  },
  {
   "cell_type": "markdown",
   "id": "rubber-height",
   "metadata": {},
   "source": [
    "For gaining an intuitive visualization of what's happening, we will use the *ipywidgets* library to intereact with a plot, while varying the number of shots:"
   ]
  },
  {
   "cell_type": "code",
   "execution_count": null,
   "id": "missing-layout",
   "metadata": {},
   "outputs": [],
   "source": [
    "from ipywidgets import interact\n",
    "import ipywidgets as widgets\n",
    "\n",
    "def update(x=1000):\n",
    "    wavetable = qsine.run(x).reconstruct_audio().output\n",
    "    updateBuffer(b, wavetable)\n",
    "    qsine.plot_audio()"
   ]
  },
  {
   "cell_type": "code",
   "execution_count": null,
   "id": "ceramic-staff",
   "metadata": {},
   "outputs": [],
   "source": [
    "interact(update, x=widgets.Dropdown(options=SHOTS, value=3, description='Number:', disabled=False))"
   ]
  },
  {
   "cell_type": "code",
   "execution_count": null,
   "id": "metallic-yesterday",
   "metadata": {},
   "outputs": [],
   "source": [
    "synth.free()"
   ]
  },
  {
   "cell_type": "markdown",
   "id": "deadly-inspiration",
   "metadata": {},
   "source": [
    "But depending on the choice of wavetable & parameters, with a slow reading frequency (~1Hz), the auditory result reminds the sound of a *Geiger Counter*, a physics measuring device used to detect radiation particles.\n",
    "Let's build a geiger counter example with a 10-qubit (1024 samples) wavetable with a 100Hz sinewave:"
   ]
  },
  {
   "cell_type": "code",
   "execution_count": null,
   "id": "local-installation",
   "metadata": {
    "scrolled": true
   },
   "outputs": [],
   "source": [
    "# Audio Sample / Table\n",
    "qubit_size = 10\n",
    "size = 2**qubit_size\n",
    "t = np.linspace(0, 1-1/size, size)\n",
    "geiger = np.sin(2*np.pi*100*t)\n",
    "plt.figure(figsize=(20,5))\n",
    "plt.plot(t, geiger, '.-', ms=5)\n",
    "plt.show()"
   ]
  },
  {
   "cell_type": "code",
   "execution_count": null,
   "id": "naval-services",
   "metadata": {},
   "outputs": [],
   "source": [
    "qgeiger = qa.QuantumAudio('qpam').load_input(geiger).prepare().measure()"
   ]
  },
  {
   "cell_type": "code",
   "execution_count": null,
   "id": "beginning-facial",
   "metadata": {},
   "outputs": [],
   "source": [
    "g = Buffer.alloc(server, 2*len(geiger))\n"
   ]
  },
  {
   "cell_type": "code",
   "execution_count": null,
   "id": "distant-savage",
   "metadata": {},
   "outputs": [],
   "source": [
    "updateBuffer(g, geiger)"
   ]
  },
  {
   "cell_type": "code",
   "execution_count": null,
   "id": "fitted-colony",
   "metadata": {},
   "outputs": [],
   "source": [
    "synth = Synth(server, \"qTable\", {\"buf\" : g, \"gain\" : -22, \"freq\" : 1})"
   ]
  },
  {
   "cell_type": "code",
   "execution_count": null,
   "id": "modified-sister",
   "metadata": {},
   "outputs": [],
   "source": [
    "SHOTS =[1, 2, 3, 4, 5, 6, 7, 8, 9, 10, 20, 30, 40, 50, 60, 70, 80, 90, 100, 200, 300, 400, 500, 1000, 2000, 3000, 4000, 5000, 10000, 20000, 50000, 100000]\n",
    "time_interval = 1\n",
    "for i in SHOTS:\n",
    "    wavetable = qgeiger.run(i).reconstruct_audio().output\n",
    "    updateBuffer(g, wavetable)\n",
    "    time.sleep(time_interval)\n"
   ]
  },
  {
   "cell_type": "code",
   "execution_count": null,
   "id": "bright-disorder",
   "metadata": {},
   "outputs": [],
   "source": [
    "synth.free()"
   ]
  },
  {
   "cell_type": "markdown",
   "id": "perfect-college",
   "metadata": {},
   "source": [
    "At first, the circuit has too litle shots, and the distribution will peak in a few states, resulting on the sharp attacks typical of a geiger counter. As the amount of shots increases, the sound turns into noise. Then the statistical distribution slowly starts to take the form of the original table, and the original sound arises from the noise."
   ]
  },
  {
   "cell_type": "code",
   "execution_count": null,
   "id": "exact-paper",
   "metadata": {},
   "outputs": [],
   "source": [
    "# Audio Sample / Table\n",
    "qubit_size = 6\n",
    "table_size = 2**qubit_size\n",
    "t = np.linspace(0, 1-1/table_size, table_size)\n",
    "sinewave = np.sin(2*np.pi*3*t)\n",
    "plt.figure(figsize=(20,5))\n",
    "plt.plot(t, sinewave, '.-', ms=5)\n",
    "plt.show()"
   ]
  },
  {
   "cell_type": "code",
   "execution_count": null,
   "id": "romantic-artist",
   "metadata": {},
   "outputs": [],
   "source": [
    "from scipy import signal\n"
   ]
  },
  {
   "cell_type": "code",
   "execution_count": null,
   "id": "disabled-hayes",
   "metadata": {},
   "outputs": [],
   "source": [
    "st = signal.sawtooth(2*np.pi*7*t)"
   ]
  },
  {
   "cell_type": "code",
   "execution_count": null,
   "id": "lasting-separation",
   "metadata": {},
   "outputs": [],
   "source": [
    "plt.plot(st)"
   ]
  },
  {
   "cell_type": "code",
   "execution_count": null,
   "id": "herbal-gambling",
   "metadata": {},
   "outputs": [],
   "source": [
    "np.linalg.norm(st)"
   ]
  },
  {
   "cell_type": "code",
   "execution_count": null,
   "id": "occupational-group",
   "metadata": {},
   "outputs": [],
   "source": [
    "np.linalg.norm(sinewave)"
   ]
  },
  {
   "cell_type": "code",
   "execution_count": null,
   "id": "chinese-giving",
   "metadata": {},
   "outputs": [],
   "source": []
  }
 ],
 "metadata": {
  "kernelspec": {
   "display_name": "Python 3 (ipykernel)",
   "language": "python",
   "name": "python3"
  },
  "language_info": {
   "codemirror_mode": {
    "name": "ipython",
    "version": 3
   },
   "file_extension": ".py",
   "mimetype": "text/x-python",
   "name": "python",
   "nbconvert_exporter": "python",
   "pygments_lexer": "ipython3",
   "version": "3.10.6"
  }
 },
 "nbformat": 4,
 "nbformat_minor": 5
}
